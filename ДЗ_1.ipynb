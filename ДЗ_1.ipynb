{
  "nbformat": 4,
  "nbformat_minor": 0,
  "metadata": {
    "colab": {
      "provenance": []
    },
    "kernelspec": {
      "name": "python3",
      "display_name": "Python 3"
    },
    "language_info": {
      "name": "python"
    }
  },
  "cells": [
    {
      "cell_type": "code",
      "source": [
        "!pip install pyspark"
      ],
      "metadata": {
        "id": "AbCEwAxy9N9m"
      },
      "execution_count": null,
      "outputs": []
    },
    {
      "cell_type": "code",
      "source": [
        "import pyspark\n",
        "from pyspark import SparkContext\n",
        "from pyspark.sql import SparkSession"
      ],
      "metadata": {
        "id": "2BOTmvxhGndo"
      },
      "execution_count": 13,
      "outputs": []
    },
    {
      "cell_type": "markdown",
      "source": [
        "#### Сперва создадим функцию sequence_transform которая превратит последовательность типа [123987345] в [[1,2,3],[987],[345]]"
      ],
      "metadata": {
        "id": "QHHlQM1RF-B6"
      }
    },
    {
      "cell_type": "code",
      "source": [
        "def sequence_transform(source_sequence):\n",
        "    result = []\n",
        "    current_subsequence = []\n",
        "    for num in source_sequence:\n",
        "        if current_subsequence and num < current_subsequence[-1]:\n",
        "            result.append(current_subsequence)\n",
        "            current_subsequence = []\n",
        "        current_subsequence.append(num)\n",
        "    if current_subsequence:\n",
        "        result.append(current_subsequence)\n",
        "    return result"
      ],
      "metadata": {
        "id": "4YL42-83913T"
      },
      "execution_count": 22,
      "outputs": []
    },
    {
      "cell_type": "code",
      "source": [
        "# Создаем упорядоченную последовательность чисел от 1 до 10 и повторяем ее несколько раз\n",
        "sc = SparkContext(\"local\", \"longest_sequence\")\n",
        "data = [1, 2, 3, 4, 4, 5, 6, 7, 8, 9, 10, 1, 2, 3, 4, 5, 6, 1, 2, 3, 4, 1, 2, 3, 1, 2, 1]\n",
        "data = sequence_transform(data)\n",
        "rdd = sc.parallelize(data)\n",
        "\n",
        "# Находим самую длинную последовательность\n",
        "longest_sequence = rdd.max()\n",
        "\n",
        "print(\"Самая длинная последовательность чисел: {}\".format(longest_sequence))\n",
        "\n"
      ],
      "metadata": {
        "colab": {
          "base_uri": "https://localhost:8080/"
        },
        "id": "zSUt1rxx_lY_",
        "outputId": "bc175b48-442b-44b0-ed59-77e5b4937733"
      },
      "execution_count": 40,
      "outputs": [
        {
          "output_type": "stream",
          "name": "stdout",
          "text": [
            "Самая длинная последовательность чисел: [1, 2, 3, 4, 5, 6]\n"
          ]
        }
      ]
    },
    {
      "cell_type": "code",
      "source": [
        "# Останавливаем SparkContext\n",
        "sc.stop()"
      ],
      "metadata": {
        "id": "o9OhMSAfG06W"
      },
      "execution_count": 39,
      "outputs": []
    }
  ]
}