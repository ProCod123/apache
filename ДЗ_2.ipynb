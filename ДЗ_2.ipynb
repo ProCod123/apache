{
  "nbformat": 4,
  "nbformat_minor": 0,
  "metadata": {
    "colab": {
      "provenance": []
    },
    "kernelspec": {
      "name": "python3",
      "display_name": "Python 3"
    },
    "language_info": {
      "name": "python"
    }
  },
  "cells": [
    {
      "cell_type": "code",
      "source": [
        "#Устанавливаем pySpark\n",
        "!pip install pyspark >> None"
      ],
      "metadata": {
        "id": "ayDspLHUhsy5"
      },
      "execution_count": 2,
      "outputs": []
    },
    {
      "cell_type": "code",
      "source": [
        "from pyspark.sql import SparkSession\n",
        "from pyspark.sql.functions import col, isnull\n",
        "import pandas as pd"
      ],
      "metadata": {
        "id": "tGo8WNG-iF7q"
      },
      "execution_count": 3,
      "outputs": []
    },
    {
      "cell_type": "code",
      "execution_count": 4,
      "metadata": {
        "colab": {
          "base_uri": "https://localhost:8080/"
        },
        "id": "Ut799zaohmL1",
        "outputId": "224cdef3-d0b3-4bc2-c697-a2b1009f1085"
      },
      "outputs": [
        {
          "output_type": "stream",
          "name": "stdout",
          "text": [
            "+----+\n",
            "|Name|\n",
            "+----+\n",
            "| Joe|\n",
            "+----+\n",
            "\n"
          ]
        }
      ],
      "source": [
        "\n",
        "# Создаем SparkSession\n",
        "spark = SparkSession.builder.appName(\"EmployeeSalaryAnalysis\").getOrCreate()\n",
        "\n",
        "# Создаем DataFrame из данных\n",
        "data = {'id': [1, 2, 3, 4],\n",
        "        'Name': ['Joe', 'Henry', 'Sam', 'Max'],\n",
        "        'Salary':['70', '80', '60', '90'],\n",
        "        'ManagerId':['3', '4', None, None]}\n",
        "\n",
        "\n",
        "data = pd.DataFrame(data)\n",
        "\n",
        "\n",
        "df = spark.createDataFrame(data)\n",
        "\n",
        "# Преобразуем столбец Salary в числовой тип\n",
        "df = df.withColumn(\"Salary\", col(\"Salary\").cast(\"int\"))\n",
        "\n",
        "# Фильтруем сотрудников, у которых ManagerId is NULL\n",
        "managers_df = df.filter(isnull(col(\"ManagerId\")))\n",
        "a = df.select('Name')\n",
        "\n",
        "# Создаем self-join таблицы для сравнения зарплат с менеджерами\n",
        "joined_df = df.alias(\"emp\").join(df.alias(\"mgr\"),\n",
        "                                 col(\"emp.ManagerId\") == col(\"mgr.id\"),\n",
        "                                 \"left_outer\").filter(col(\"emp.Salary\") > col(\"mgr.Salary\"))\n",
        "\n",
        "result = joined_df.select(\"emp.Name\")\n",
        "\n",
        "\n",
        "\n",
        "# Выводим результат\n",
        "result.show()\n",
        "\n",
        "# Останавливаем SparkSession\n",
        "spark.stop()\n"
      ]
    }
  ]
}