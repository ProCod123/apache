{
  "nbformat": 4,
  "nbformat_minor": 0,
  "metadata": {
    "colab": {
      "provenance": []
    },
    "kernelspec": {
      "name": "python3",
      "display_name": "Python 3"
    },
    "language_info": {
      "name": "python"
    }
  },
  "cells": [
    {
      "cell_type": "code",
      "execution_count": 1,
      "metadata": {
        "id": "V8cItm-VC0Ow"
      },
      "outputs": [],
      "source": [
        "#Устанавливаем pySpark\n",
        "!pip install pyspark >> None"
      ]
    },
    {
      "cell_type": "code",
      "source": [
        "from pyspark.sql import SparkSession\n",
        "from pyspark.sql.window import Window\n",
        "from pyspark.sql.functions import avg, col, date_format, first, round"
      ],
      "metadata": {
        "id": "hh2iRaUsDGNH"
      },
      "execution_count": 18,
      "outputs": []
    },
    {
      "cell_type": "code",
      "source": [
        "# Создаем SparkSession\n",
        "spark = SparkSession.builder.appName(\"AverageRevenue\").getOrCreate()\n",
        "\n",
        "# Создаем DataFrame из предоставленных данных\n",
        "data = [\n",
        "    (\"2023-11-20\", \"Electronics\", 100, 12000),\n",
        "    (\"2023-11-21\", \"Electronics\", 110, 13000),\n",
        "    (\"2023-11-22\", \"Electronics\", 105, 12500),\n",
        "    (\"2023-11-20\", \"Clothing\", 300, 15000),\n",
        "    (\"2023-11-21\", \"Clothing\", 280, 14000),\n",
        "    (\"2023-11-22\", \"Clothing\", 320, 16000),\n",
        "    (\"2023-11-20\", \"Books\", 150, 9000),\n",
        "    (\"2023-11-21\", \"Books\", 200, 12000),\n",
        "    (\"2023-11-22\", \"Books\", 180, 10000)\n",
        "]\n",
        "df = spark.createDataFrame(data, [\"date\", \"category\", \"quantity\", \"revenue\"])\n",
        "\n",
        "# Определяем окно для расчета среднего значения\n",
        "window = Window.partitionBy(\"category\").orderBy(\"category\")\n",
        "\n",
        "# Вычисляем среднюю выручку для каждой категории\n",
        "df_avg = df.withColumn(\"avg_revenue\", round(avg(\"revenue\").over(window), 1))\n",
        "df_avg.show()\n"
      ],
      "metadata": {
        "colab": {
          "base_uri": "https://localhost:8080/"
        },
        "id": "ntwMbxCvGwax",
        "outputId": "cbc1dd67-47f6-4f93-f4f4-216ceb4f41f0"
      },
      "execution_count": 19,
      "outputs": [
        {
          "output_type": "stream",
          "name": "stdout",
          "text": [
            "+----------+-----------+--------+-------+-----------+\n",
            "|      date|   category|quantity|revenue|avg_revenue|\n",
            "+----------+-----------+--------+-------+-----------+\n",
            "|2023-11-20|      Books|     150|   9000|    10333.3|\n",
            "|2023-11-21|      Books|     200|  12000|    10333.3|\n",
            "|2023-11-22|      Books|     180|  10000|    10333.3|\n",
            "|2023-11-20|   Clothing|     300|  15000|    15000.0|\n",
            "|2023-11-21|   Clothing|     280|  14000|    15000.0|\n",
            "|2023-11-22|   Clothing|     320|  16000|    15000.0|\n",
            "|2023-11-20|Electronics|     100|  12000|    12500.0|\n",
            "|2023-11-21|Electronics|     110|  13000|    12500.0|\n",
            "|2023-11-22|Electronics|     105|  12500|    12500.0|\n",
            "+----------+-----------+--------+-------+-----------+\n",
            "\n"
          ]
        }
      ]
    },
    {
      "cell_type": "code",
      "source": [
        "# Применяем операцию pivot, чтобы преобразовать данные\n",
        "df_pivot = df_avg.groupBy(\"category\").pivot(\"date\").agg(first(\"avg_revenue\"))\n",
        "\n",
        "\n",
        "# Выводим результат\n",
        "df_pivot.show()\n",
        "\n",
        "# Останавливаем SparkSession\n",
        "spark.stop()"
      ],
      "metadata": {
        "colab": {
          "base_uri": "https://localhost:8080/"
        },
        "id": "cXiYKX_3G_4x",
        "outputId": "06c336f2-41fd-49ee-860d-b50f22854e30"
      },
      "execution_count": 20,
      "outputs": [
        {
          "output_type": "stream",
          "name": "stdout",
          "text": [
            "+-----------+----------+----------+----------+\n",
            "|   category|2023-11-20|2023-11-21|2023-11-22|\n",
            "+-----------+----------+----------+----------+\n",
            "|      Books|   10333.3|   10333.3|   10333.3|\n",
            "|   Clothing|   15000.0|   15000.0|   15000.0|\n",
            "|Electronics|   12500.0|   12500.0|   12500.0|\n",
            "+-----------+----------+----------+----------+\n",
            "\n"
          ]
        }
      ]
    }
  ]
}