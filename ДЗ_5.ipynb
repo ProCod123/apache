{
  "nbformat": 4,
  "nbformat_minor": 0,
  "metadata": {
    "colab": {
      "provenance": []
    },
    "kernelspec": {
      "name": "python3",
      "display_name": "Python 3"
    },
    "language_info": {
      "name": "python"
    }
  },
  "cells": [
    {
      "cell_type": "code",
      "execution_count": 1,
      "metadata": {
        "id": "NAcRJhkQZsT7"
      },
      "outputs": [],
      "source": [
        "#Устанавливаем pySpark\n",
        "!pip install pyspark >> None"
      ]
    },
    {
      "cell_type": "code",
      "source": [
        "from pyspark.sql import SparkSession\n",
        "from pyspark.sql.functions import col, sum"
      ],
      "metadata": {
        "id": "Q6Zmk4gDZwHx"
      },
      "execution_count": 2,
      "outputs": []
    },
    {
      "cell_type": "code",
      "source": [
        "# Создаем SparkSession\n",
        "spark = SparkSession.builder.appName(\"BookSalesAnalysis\").getOrCreate()\n",
        "\n",
        "# Читаем данные из файла CSV\n",
        "books_df = spark.read.csv(\"books.csv\", header=True, inferSchema=True)\n",
        "books_df.show()\n"
      ],
      "metadata": {
        "colab": {
          "base_uri": "https://localhost:8080/"
        },
        "id": "KF-eQFdzZ4dD",
        "outputId": "9480863d-92e4-4478-a436-09e7351dc8eb"
      },
      "execution_count": 11,
      "outputs": [
        {
          "output_type": "stream",
          "name": "stdout",
          "text": [
            "+--------------------+--------------------+----------------+------+------+\n",
            "|               title|              author|           genre| sales|  year|\n",
            "+--------------------+--------------------+----------------+------+------+\n",
            "|                1984|       George Orwell| Science Fiction|5000.0|1949.0|\n",
            "|The Lord of the R...|      J.R.R. Tolkien|         Fantasy|3000.0|1954.0|\n",
            "|To Kill a Mocking...|          Harper Lee| Southern Gothic|4000.0|1960.0|\n",
            "|The Catcher in th...|       J.D. Salinger|           Novel|2000.0|1951.0|\n",
            "|    The Great Gatsby| F. Scott Fitzgerald|           Novel|4500.0|1925.0|\n",
            "+--------------------+--------------------+----------------+------+------+\n",
            "\n"
          ]
        }
      ]
    },
    {
      "cell_type": "code",
      "source": [
        "# Книги продажи которых превышают 3000\n",
        "filtered_df = books_df.filter(col(\"sales\") > 3000)\n",
        "filtered_df.show()"
      ],
      "metadata": {
        "colab": {
          "base_uri": "https://localhost:8080/"
        },
        "id": "QozaMhmAaoiM",
        "outputId": "cd67cbb7-24cc-497e-fbb2-ac6895dd87ce"
      },
      "execution_count": 12,
      "outputs": [
        {
          "output_type": "stream",
          "name": "stdout",
          "text": [
            "+--------------------+--------------------+----------------+------+------+\n",
            "|               title|              author|           genre| sales|  year|\n",
            "+--------------------+--------------------+----------------+------+------+\n",
            "|                1984|       George Orwell| Science Fiction|5000.0|1949.0|\n",
            "|To Kill a Mocking...|          Harper Lee| Southern Gothic|4000.0|1960.0|\n",
            "|    The Great Gatsby| F. Scott Fitzgerald|           Novel|4500.0|1925.0|\n",
            "+--------------------+--------------------+----------------+------+------+\n",
            "\n"
          ]
        }
      ]
    },
    {
      "cell_type": "code",
      "source": [
        "# Группируем по жанру и суммируем продажи\n",
        "grouped_df = filtered_df.groupBy(\"genre\").agg(sum(\"sales\").alias(\"total_sales\"))\n",
        "grouped_df.show()"
      ],
      "metadata": {
        "colab": {
          "base_uri": "https://localhost:8080/"
        },
        "id": "JjHubwIjbog6",
        "outputId": "e7207505-4a4a-4183-88d7-ebf608abd308"
      },
      "execution_count": 13,
      "outputs": [
        {
          "output_type": "stream",
          "name": "stdout",
          "text": [
            "+----------------+-----------+\n",
            "|           genre|total_sales|\n",
            "+----------------+-----------+\n",
            "|           Novel|     4500.0|\n",
            "| Southern Gothic|     4000.0|\n",
            "| Science Fiction|     5000.0|\n",
            "+----------------+-----------+\n",
            "\n"
          ]
        }
      ]
    },
    {
      "cell_type": "code",
      "source": [
        "# Сортируем по общему объему продаж\n",
        "sorted_df = grouped_df.orderBy(col(\"total_sales\").desc())\n",
        "sorted_df.show()"
      ],
      "metadata": {
        "colab": {
          "base_uri": "https://localhost:8080/"
        },
        "id": "Z69DCG8OdH-5",
        "outputId": "9759c024-a3b1-465d-a232-256ff833bc65"
      },
      "execution_count": 14,
      "outputs": [
        {
          "output_type": "stream",
          "name": "stdout",
          "text": [
            "+----------------+-----------+\n",
            "|           genre|total_sales|\n",
            "+----------------+-----------+\n",
            "| Science Fiction|     5000.0|\n",
            "|           Novel|     4500.0|\n",
            "| Southern Gothic|     4000.0|\n",
            "+----------------+-----------+\n",
            "\n"
          ]
        }
      ]
    }
  ]
}